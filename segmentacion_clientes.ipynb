{
 "cells": [
  {
   "cell_type": "markdown",
   "metadata": {},
   "source": [
    "# Segmentación de Clientes \n",
    "\n",
    "Este notebook presenta el análisis y segmentación de clientes de una cadena de supermercados. Se utilizó la técnica de clustering \"K-means\", para agrupar a los clientes según su comportamiento de compra, con el fin de diseñar estrategias de marketing más efectivas."
   ]
  },
  {
   "cell_type": "markdown",
   "metadata": {},
   "source": [
    "# Librerías necesarias\n",
    "\n",
    "Este notebook requiere las siguientes librerías para ejecutarse correctamente:\n",
    "\n",
    "- pandas\n",
    "- numpy\n",
    "- matplotlib\n",
    "- seaborn\n",
    "- plotly\n",
    "- scikit-learn\n"
   ]
  },
  {
   "cell_type": "markdown",
   "metadata": {},
   "source": [
    "##  Carga de datos\n",
    "\n",
    "Se carga la base principal `dataclientes.xlsx`, la cual contiene información sobre las transacciones realizadas por los clientes: productos, fechas, precios, métodos de pago, ubicación, promociones, etc."
   ]
  },
  {
   "cell_type": "code",
   "execution_count": 14,
   "metadata": {},
   "outputs": [],
   "source": [
    "#Carga de archivos\n",
    "import pandas as pd\n",
    "data=pd.read_excel(\"dataclientes.xlsx\")"
   ]
  },
  {
   "cell_type": "markdown",
   "metadata": {},
   "source": [
    "##  Inspección inicial\n",
    "\n",
    "Se visualizan las primeras filas del dataset para conocer su estructura general."
   ]
  },
  {
   "cell_type": "code",
   "execution_count": 3,
   "metadata": {},
   "outputs": [
    {
     "data": {
      "text/html": [
       "<div>\n",
       "<style scoped>\n",
       "    .dataframe tbody tr th:only-of-type {\n",
       "        vertical-align: middle;\n",
       "    }\n",
       "\n",
       "    .dataframe tbody tr th {\n",
       "        vertical-align: top;\n",
       "    }\n",
       "\n",
       "    .dataframe thead th {\n",
       "        text-align: right;\n",
       "    }\n",
       "</style>\n",
       "<table border=\"1\" class=\"dataframe\">\n",
       "  <thead>\n",
       "    <tr style=\"text-align: right;\">\n",
       "      <th></th>\n",
       "      <th>Transaction_ID</th>\n",
       "      <th>Date</th>\n",
       "      <th>Customer_ID</th>\n",
       "      <th>Product</th>\n",
       "      <th>Payment_Method</th>\n",
       "      <th>City</th>\n",
       "      <th>Store_Type</th>\n",
       "      <th>Discount_Applied</th>\n",
       "      <th>Season</th>\n",
       "      <th>Promotion</th>\n",
       "      <th>Category_prod</th>\n",
       "      <th>Price</th>\n",
       "    </tr>\n",
       "  </thead>\n",
       "  <tbody>\n",
       "    <tr>\n",
       "      <th>0</th>\n",
       "      <td>1000</td>\n",
       "      <td>2024-04-02</td>\n",
       "      <td>52</td>\n",
       "      <td>Laptop</td>\n",
       "      <td>Debit Card</td>\n",
       "      <td>San Diego</td>\n",
       "      <td>Supermarket</td>\n",
       "      <td>True</td>\n",
       "      <td>Spring</td>\n",
       "      <td>No</td>\n",
       "      <td>Electronics</td>\n",
       "      <td>1436</td>\n",
       "    </tr>\n",
       "    <tr>\n",
       "      <th>1</th>\n",
       "      <td>1001</td>\n",
       "      <td>2024-01-29</td>\n",
       "      <td>41</td>\n",
       "      <td>Trash Bags</td>\n",
       "      <td>Cash</td>\n",
       "      <td>Houston</td>\n",
       "      <td>Specialty Store</td>\n",
       "      <td>True</td>\n",
       "      <td>Winter</td>\n",
       "      <td>No</td>\n",
       "      <td>Household Supplies</td>\n",
       "      <td>10</td>\n",
       "    </tr>\n",
       "    <tr>\n",
       "      <th>2</th>\n",
       "      <td>1001</td>\n",
       "      <td>2024-01-29</td>\n",
       "      <td>41</td>\n",
       "      <td>Christmas Tree</td>\n",
       "      <td>Cash</td>\n",
       "      <td>Houston</td>\n",
       "      <td>Specialty Store</td>\n",
       "      <td>True</td>\n",
       "      <td>Winter</td>\n",
       "      <td>No</td>\n",
       "      <td>Seasonal Decor</td>\n",
       "      <td>42</td>\n",
       "    </tr>\n",
       "    <tr>\n",
       "      <th>3</th>\n",
       "      <td>1001</td>\n",
       "      <td>2024-01-29</td>\n",
       "      <td>41</td>\n",
       "      <td>Cheese</td>\n",
       "      <td>Cash</td>\n",
       "      <td>Houston</td>\n",
       "      <td>Specialty Store</td>\n",
       "      <td>True</td>\n",
       "      <td>Winter</td>\n",
       "      <td>No</td>\n",
       "      <td>Dairy</td>\n",
       "      <td>8</td>\n",
       "    </tr>\n",
       "    <tr>\n",
       "      <th>4</th>\n",
       "      <td>1002</td>\n",
       "      <td>2024-03-01</td>\n",
       "      <td>89</td>\n",
       "      <td>Wrapping Paper</td>\n",
       "      <td>Debit Card</td>\n",
       "      <td>San Diego</td>\n",
       "      <td>Supermarket</td>\n",
       "      <td>True</td>\n",
       "      <td>Winter</td>\n",
       "      <td>No</td>\n",
       "      <td>Stationery</td>\n",
       "      <td>2</td>\n",
       "    </tr>\n",
       "    <tr>\n",
       "      <th>5</th>\n",
       "      <td>1002</td>\n",
       "      <td>2024-03-01</td>\n",
       "      <td>89</td>\n",
       "      <td>Lawn Mower</td>\n",
       "      <td>Debit Card</td>\n",
       "      <td>San Diego</td>\n",
       "      <td>Supermarket</td>\n",
       "      <td>True</td>\n",
       "      <td>Winter</td>\n",
       "      <td>No</td>\n",
       "      <td>Gardening</td>\n",
       "      <td>131</td>\n",
       "    </tr>\n",
       "    <tr>\n",
       "      <th>6</th>\n",
       "      <td>1002</td>\n",
       "      <td>2024-03-01</td>\n",
       "      <td>89</td>\n",
       "      <td>Tomatoes</td>\n",
       "      <td>Debit Card</td>\n",
       "      <td>San Diego</td>\n",
       "      <td>Supermarket</td>\n",
       "      <td>True</td>\n",
       "      <td>Winter</td>\n",
       "      <td>No</td>\n",
       "      <td>Vegetables</td>\n",
       "      <td>2</td>\n",
       "    </tr>\n",
       "    <tr>\n",
       "      <th>7</th>\n",
       "      <td>1002</td>\n",
       "      <td>2024-03-01</td>\n",
       "      <td>89</td>\n",
       "      <td>Dish Soap</td>\n",
       "      <td>Debit Card</td>\n",
       "      <td>San Diego</td>\n",
       "      <td>Supermarket</td>\n",
       "      <td>True</td>\n",
       "      <td>Winter</td>\n",
       "      <td>No</td>\n",
       "      <td>Cleaning Supplies</td>\n",
       "      <td>5</td>\n",
       "    </tr>\n",
       "    <tr>\n",
       "      <th>8</th>\n",
       "      <td>1003</td>\n",
       "      <td>2023-04-27</td>\n",
       "      <td>3</td>\n",
       "      <td>Shrimp</td>\n",
       "      <td>Cash</td>\n",
       "      <td>San Diego</td>\n",
       "      <td>Specialty Store</td>\n",
       "      <td>True</td>\n",
       "      <td>Spring</td>\n",
       "      <td>BOGO (Buy One Get One)</td>\n",
       "      <td>Seafood</td>\n",
       "      <td>16</td>\n",
       "    </tr>\n",
       "    <tr>\n",
       "      <th>9</th>\n",
       "      <td>1003</td>\n",
       "      <td>2023-04-27</td>\n",
       "      <td>3</td>\n",
       "      <td>Video Game Console</td>\n",
       "      <td>Cash</td>\n",
       "      <td>San Diego</td>\n",
       "      <td>Specialty Store</td>\n",
       "      <td>True</td>\n",
       "      <td>Spring</td>\n",
       "      <td>BOGO (Buy One Get One)</td>\n",
       "      <td>Electronics</td>\n",
       "      <td>454</td>\n",
       "    </tr>\n",
       "  </tbody>\n",
       "</table>\n",
       "</div>"
      ],
      "text/plain": [
       "   Transaction_ID       Date  Customer_ID             Product Payment_Method  \\\n",
       "0            1000 2024-04-02           52              Laptop     Debit Card   \n",
       "1            1001 2024-01-29           41          Trash Bags           Cash   \n",
       "2            1001 2024-01-29           41      Christmas Tree           Cash   \n",
       "3            1001 2024-01-29           41              Cheese           Cash   \n",
       "4            1002 2024-03-01           89      Wrapping Paper     Debit Card   \n",
       "5            1002 2024-03-01           89          Lawn Mower     Debit Card   \n",
       "6            1002 2024-03-01           89            Tomatoes     Debit Card   \n",
       "7            1002 2024-03-01           89           Dish Soap     Debit Card   \n",
       "8            1003 2023-04-27            3              Shrimp           Cash   \n",
       "9            1003 2023-04-27            3  Video Game Console           Cash   \n",
       "\n",
       "        City       Store_Type  Discount_Applied  Season  \\\n",
       "0  San Diego      Supermarket              True  Spring   \n",
       "1    Houston  Specialty Store              True  Winter   \n",
       "2    Houston  Specialty Store              True  Winter   \n",
       "3    Houston  Specialty Store              True  Winter   \n",
       "4  San Diego      Supermarket              True  Winter   \n",
       "5  San Diego      Supermarket              True  Winter   \n",
       "6  San Diego      Supermarket              True  Winter   \n",
       "7  San Diego      Supermarket              True  Winter   \n",
       "8  San Diego  Specialty Store              True  Spring   \n",
       "9  San Diego  Specialty Store              True  Spring   \n",
       "\n",
       "                Promotion       Category_prod  Price  \n",
       "0                      No         Electronics   1436  \n",
       "1                      No  Household Supplies     10  \n",
       "2                      No      Seasonal Decor     42  \n",
       "3                      No               Dairy      8  \n",
       "4                      No          Stationery      2  \n",
       "5                      No           Gardening    131  \n",
       "6                      No          Vegetables      2  \n",
       "7                      No   Cleaning Supplies      5  \n",
       "8  BOGO (Buy One Get One)             Seafood     16  \n",
       "9  BOGO (Buy One Get One)         Electronics    454  "
      ]
     },
     "metadata": {},
     "output_type": "display_data"
    }
   ],
   "source": [
    "display(data.head(10))"
   ]
  },
  {
   "cell_type": "markdown",
   "metadata": {},
   "source": [
    "## Cálculo del ticket promedio por cliente\n",
    "\n",
    "Se agrupa la información por `Customer_ID` para calcular tres variables importantes:\n",
    "\n",
    "- `total_price`: el total gastado por cliente.\n",
    "- `transaction_count`: cantidad total de transacciones realizadas.\n",
    "- `ticket_promedio`: promedio de gasto por transacción (variable creada específicamente para el análisis de segmentación)."
   ]
  },
  {
   "cell_type": "code",
   "execution_count": 4,
   "metadata": {},
   "outputs": [
    {
     "data": {
      "text/html": [
       "<div>\n",
       "<style scoped>\n",
       "    .dataframe tbody tr th:only-of-type {\n",
       "        vertical-align: middle;\n",
       "    }\n",
       "\n",
       "    .dataframe tbody tr th {\n",
       "        vertical-align: top;\n",
       "    }\n",
       "\n",
       "    .dataframe thead th {\n",
       "        text-align: right;\n",
       "    }\n",
       "</style>\n",
       "<table border=\"1\" class=\"dataframe\">\n",
       "  <thead>\n",
       "    <tr style=\"text-align: right;\">\n",
       "      <th></th>\n",
       "      <th>Customer_ID</th>\n",
       "      <th>total_price</th>\n",
       "      <th>transaction_count</th>\n",
       "      <th>ticket_promedio</th>\n",
       "    </tr>\n",
       "  </thead>\n",
       "  <tbody>\n",
       "    <tr>\n",
       "      <th>0</th>\n",
       "      <td>1</td>\n",
       "      <td>27124</td>\n",
       "      <td>485</td>\n",
       "      <td>55.925773</td>\n",
       "    </tr>\n",
       "    <tr>\n",
       "      <th>1</th>\n",
       "      <td>2</td>\n",
       "      <td>20873</td>\n",
       "      <td>458</td>\n",
       "      <td>45.574236</td>\n",
       "    </tr>\n",
       "    <tr>\n",
       "      <th>2</th>\n",
       "      <td>3</td>\n",
       "      <td>18458</td>\n",
       "      <td>415</td>\n",
       "      <td>44.477108</td>\n",
       "    </tr>\n",
       "    <tr>\n",
       "      <th>3</th>\n",
       "      <td>4</td>\n",
       "      <td>17019</td>\n",
       "      <td>380</td>\n",
       "      <td>44.786842</td>\n",
       "    </tr>\n",
       "    <tr>\n",
       "      <th>4</th>\n",
       "      <td>5</td>\n",
       "      <td>21012</td>\n",
       "      <td>349</td>\n",
       "      <td>60.206304</td>\n",
       "    </tr>\n",
       "    <tr>\n",
       "      <th>5</th>\n",
       "      <td>6</td>\n",
       "      <td>32251</td>\n",
       "      <td>421</td>\n",
       "      <td>76.605701</td>\n",
       "    </tr>\n",
       "    <tr>\n",
       "      <th>6</th>\n",
       "      <td>7</td>\n",
       "      <td>24256</td>\n",
       "      <td>527</td>\n",
       "      <td>46.026565</td>\n",
       "    </tr>\n",
       "    <tr>\n",
       "      <th>7</th>\n",
       "      <td>8</td>\n",
       "      <td>10291</td>\n",
       "      <td>404</td>\n",
       "      <td>25.472772</td>\n",
       "    </tr>\n",
       "    <tr>\n",
       "      <th>8</th>\n",
       "      <td>9</td>\n",
       "      <td>19743</td>\n",
       "      <td>366</td>\n",
       "      <td>53.942623</td>\n",
       "    </tr>\n",
       "    <tr>\n",
       "      <th>9</th>\n",
       "      <td>10</td>\n",
       "      <td>21448</td>\n",
       "      <td>526</td>\n",
       "      <td>40.775665</td>\n",
       "    </tr>\n",
       "    <tr>\n",
       "      <th>10</th>\n",
       "      <td>11</td>\n",
       "      <td>18915</td>\n",
       "      <td>470</td>\n",
       "      <td>40.244681</td>\n",
       "    </tr>\n",
       "    <tr>\n",
       "      <th>11</th>\n",
       "      <td>12</td>\n",
       "      <td>19155</td>\n",
       "      <td>390</td>\n",
       "      <td>49.115385</td>\n",
       "    </tr>\n",
       "    <tr>\n",
       "      <th>12</th>\n",
       "      <td>13</td>\n",
       "      <td>22690</td>\n",
       "      <td>436</td>\n",
       "      <td>52.041284</td>\n",
       "    </tr>\n",
       "    <tr>\n",
       "      <th>13</th>\n",
       "      <td>14</td>\n",
       "      <td>15452</td>\n",
       "      <td>440</td>\n",
       "      <td>35.118182</td>\n",
       "    </tr>\n",
       "    <tr>\n",
       "      <th>14</th>\n",
       "      <td>15</td>\n",
       "      <td>18421</td>\n",
       "      <td>442</td>\n",
       "      <td>41.676471</td>\n",
       "    </tr>\n",
       "    <tr>\n",
       "      <th>15</th>\n",
       "      <td>16</td>\n",
       "      <td>17258</td>\n",
       "      <td>444</td>\n",
       "      <td>38.869369</td>\n",
       "    </tr>\n",
       "    <tr>\n",
       "      <th>16</th>\n",
       "      <td>17</td>\n",
       "      <td>14617</td>\n",
       "      <td>408</td>\n",
       "      <td>35.825980</td>\n",
       "    </tr>\n",
       "    <tr>\n",
       "      <th>17</th>\n",
       "      <td>18</td>\n",
       "      <td>16728</td>\n",
       "      <td>446</td>\n",
       "      <td>37.506726</td>\n",
       "    </tr>\n",
       "    <tr>\n",
       "      <th>18</th>\n",
       "      <td>19</td>\n",
       "      <td>19429</td>\n",
       "      <td>387</td>\n",
       "      <td>50.204134</td>\n",
       "    </tr>\n",
       "    <tr>\n",
       "      <th>19</th>\n",
       "      <td>20</td>\n",
       "      <td>19392</td>\n",
       "      <td>406</td>\n",
       "      <td>47.763547</td>\n",
       "    </tr>\n",
       "  </tbody>\n",
       "</table>\n",
       "</div>"
      ],
      "text/plain": [
       "    Customer_ID  total_price  transaction_count  ticket_promedio\n",
       "0             1        27124                485        55.925773\n",
       "1             2        20873                458        45.574236\n",
       "2             3        18458                415        44.477108\n",
       "3             4        17019                380        44.786842\n",
       "4             5        21012                349        60.206304\n",
       "5             6        32251                421        76.605701\n",
       "6             7        24256                527        46.026565\n",
       "7             8        10291                404        25.472772\n",
       "8             9        19743                366        53.942623\n",
       "9            10        21448                526        40.775665\n",
       "10           11        18915                470        40.244681\n",
       "11           12        19155                390        49.115385\n",
       "12           13        22690                436        52.041284\n",
       "13           14        15452                440        35.118182\n",
       "14           15        18421                442        41.676471\n",
       "15           16        17258                444        38.869369\n",
       "16           17        14617                408        35.825980\n",
       "17           18        16728                446        37.506726\n",
       "18           19        19429                387        50.204134\n",
       "19           20        19392                406        47.763547"
      ]
     },
     "metadata": {},
     "output_type": "display_data"
    }
   ],
   "source": [
    "# Agrupar por Date y Customer_ID y calcular estadísticas agregadas\n",
    "grouped_data = data.groupby('Customer_ID').agg(\n",
    "    total_price=('Price', 'sum'),  # Suma total de precios por cliente\n",
    "    transaction_count=('Transaction_ID', 'count'),  # Número total de transacciones por cliente\n",
    "    ticket_promedio=('Price', 'mean')  # Ticket promedio por cliente\n",
    ").reset_index()\n",
    "\n",
    "\n",
    "# Mostrar los resultados\n",
    "display(grouped_data.head(20))\n"
   ]
  },
  {
   "cell_type": "markdown",
   "metadata": {},
   "source": [
    "## Revisar estructura de los datos"
   ]
  },
  {
   "cell_type": "code",
   "execution_count": 5,
   "metadata": {},
   "outputs": [
    {
     "name": "stdout",
     "output_type": "stream",
     "text": [
      "<class 'pandas.core.frame.DataFrame'>\n",
      "RangeIndex: 43577 entries, 0 to 43576\n",
      "Data columns (total 12 columns):\n",
      " #   Column            Non-Null Count  Dtype         \n",
      "---  ------            --------------  -----         \n",
      " 0   Transaction_ID    43577 non-null  int64         \n",
      " 1   Date              43577 non-null  datetime64[ns]\n",
      " 2   Customer_ID       43577 non-null  int64         \n",
      " 3   Product           43577 non-null  object        \n",
      " 4   Payment_Method    43577 non-null  object        \n",
      " 5   City              43577 non-null  object        \n",
      " 6   Store_Type        43577 non-null  object        \n",
      " 7   Discount_Applied  43577 non-null  bool          \n",
      " 8   Season            43577 non-null  object        \n",
      " 9   Promotion         43577 non-null  object        \n",
      " 10  Category_prod     43577 non-null  object        \n",
      " 11  Price             43577 non-null  int64         \n",
      "dtypes: bool(1), datetime64[ns](1), int64(3), object(7)\n",
      "memory usage: 3.7+ MB\n",
      "None\n"
     ]
    }
   ],
   "source": [
    "# Revisamos la estructura del dataset: cantidad de registros, tipos de datos y valores nulos\n",
    "print(data.info())\n",
    "\n",
    "# Comentario:\n",
    "# El dataset tiene 43,577 registros y 12 columnas.\n",
    "# No hay valores nulos en ninguna columna.\n",
    "# Las variables categóricas están en formato object.\n",
    "# La variable 'Date' está correctamente en formato datetime64."
   ]
  },
  {
   "cell_type": "code",
   "execution_count": 6,
   "metadata": {},
   "outputs": [
    {
     "data": {
      "text/html": [
       "<div>\n",
       "<style scoped>\n",
       "    .dataframe tbody tr th:only-of-type {\n",
       "        vertical-align: middle;\n",
       "    }\n",
       "\n",
       "    .dataframe tbody tr th {\n",
       "        vertical-align: top;\n",
       "    }\n",
       "\n",
       "    .dataframe thead th {\n",
       "        text-align: right;\n",
       "    }\n",
       "</style>\n",
       "<table border=\"1\" class=\"dataframe\">\n",
       "  <thead>\n",
       "    <tr style=\"text-align: right;\">\n",
       "      <th></th>\n",
       "      <th>Transaction_ID</th>\n",
       "      <th>Date</th>\n",
       "      <th>Customer_ID</th>\n",
       "      <th>Price</th>\n",
       "    </tr>\n",
       "  </thead>\n",
       "  <tbody>\n",
       "    <tr>\n",
       "      <th>count</th>\n",
       "      <td>43577.00</td>\n",
       "      <td>43577</td>\n",
       "      <td>43577.00</td>\n",
       "      <td>43577.00</td>\n",
       "    </tr>\n",
       "    <tr>\n",
       "      <th>mean</th>\n",
       "      <td>8213.68</td>\n",
       "      <td>2023-08-31 20:30:27.716455936</td>\n",
       "      <td>50.67</td>\n",
       "      <td>46.24</td>\n",
       "    </tr>\n",
       "    <tr>\n",
       "      <th>min</th>\n",
       "      <td>1000.00</td>\n",
       "      <td>2023-01-01 00:00:00</td>\n",
       "      <td>1.00</td>\n",
       "      <td>1.00</td>\n",
       "    </tr>\n",
       "    <tr>\n",
       "      <th>25%</th>\n",
       "      <td>4600.00</td>\n",
       "      <td>2023-05-05 00:00:00</td>\n",
       "      <td>26.00</td>\n",
       "      <td>3.00</td>\n",
       "    </tr>\n",
       "    <tr>\n",
       "      <th>50%</th>\n",
       "      <td>8199.00</td>\n",
       "      <td>2023-09-01 00:00:00</td>\n",
       "      <td>51.00</td>\n",
       "      <td>5.00</td>\n",
       "    </tr>\n",
       "    <tr>\n",
       "      <th>75%</th>\n",
       "      <td>11829.00</td>\n",
       "      <td>2023-12-29 00:00:00</td>\n",
       "      <td>76.00</td>\n",
       "      <td>10.00</td>\n",
       "    </tr>\n",
       "    <tr>\n",
       "      <th>max</th>\n",
       "      <td>15458.00</td>\n",
       "      <td>2024-04-29 00:00:00</td>\n",
       "      <td>100.00</td>\n",
       "      <td>2999.00</td>\n",
       "    </tr>\n",
       "    <tr>\n",
       "      <th>std</th>\n",
       "      <td>4179.77</td>\n",
       "      <td>NaN</td>\n",
       "      <td>28.97</td>\n",
       "      <td>212.51</td>\n",
       "    </tr>\n",
       "  </tbody>\n",
       "</table>\n",
       "</div>"
      ],
      "text/plain": [
       "       Transaction_ID                           Date  Customer_ID     Price\n",
       "count        43577.00                          43577     43577.00  43577.00\n",
       "mean          8213.68  2023-08-31 20:30:27.716455936        50.67     46.24\n",
       "min           1000.00            2023-01-01 00:00:00         1.00      1.00\n",
       "25%           4600.00            2023-05-05 00:00:00        26.00      3.00\n",
       "50%           8199.00            2023-09-01 00:00:00        51.00      5.00\n",
       "75%          11829.00            2023-12-29 00:00:00        76.00     10.00\n",
       "max          15458.00            2024-04-29 00:00:00       100.00   2999.00\n",
       "std           4179.77                            NaN        28.97    212.51"
      ]
     },
     "execution_count": 6,
     "metadata": {},
     "output_type": "execute_result"
    }
   ],
   "source": [
    "# Mostramos estadísticas descriptivas de las variables numéricas\n",
    "data.describe().round(2)\n",
    "\n",
    "# Comentario:\n",
    "# El precio promedio por producto es de aproximadamente 46.24.\n",
    "# Se observan valores extremos en 'Price' (máximo 2999).\n",
    "# Hay 100 clientes diferentes (Customer_ID entre 1 y 100).\n",
    "# Las transacciones van desde enero 2023 hasta abril 2024."
   ]
  },
  {
   "cell_type": "markdown",
   "metadata": {},
   "source": [
    "# Verificar valores nulos"
   ]
  },
  {
   "cell_type": "code",
   "execution_count": 7,
   "metadata": {},
   "outputs": [
    {
     "data": {
      "text/plain": [
       "Transaction_ID      0\n",
       "Date                0\n",
       "Customer_ID         0\n",
       "Product             0\n",
       "Payment_Method      0\n",
       "City                0\n",
       "Store_Type          0\n",
       "Discount_Applied    0\n",
       "Season              0\n",
       "Promotion           0\n",
       "Category_prod       0\n",
       "Price               0\n",
       "dtype: int64"
      ]
     },
     "execution_count": 7,
     "metadata": {},
     "output_type": "execute_result"
    }
   ],
   "source": [
    "data.isnull().sum()"
   ]
  },
  {
   "cell_type": "markdown",
   "metadata": {},
   "source": [
    "# Contar duplicados explícitos"
   ]
  },
  {
   "cell_type": "code",
   "execution_count": 8,
   "metadata": {},
   "outputs": [
    {
     "data": {
      "text/plain": [
       "0"
      ]
     },
     "execution_count": 8,
     "metadata": {},
     "output_type": "execute_result"
    }
   ],
   "source": [
    "data.duplicated().sum()"
   ]
  },
  {
   "cell_type": "markdown",
   "metadata": {},
   "source": [
    "# Asignar tipo 'category' a las variables categóricas"
   ]
  },
  {
   "cell_type": "code",
   "execution_count": 5,
   "metadata": {},
   "outputs": [],
   "source": [
    "categorical_columns = ['Transaction_ID','Customer_ID','Payment_Method','Store_Type', 'Discount_Applied', 'Season', 'Promotion']\n",
    "data[categorical_columns] = data[categorical_columns].astype('category')"
   ]
  },
  {
   "cell_type": "markdown",
   "metadata": {},
   "source": [
    "# Comprobar los tipos de datos después de la conversión"
   ]
  },
  {
   "cell_type": "code",
   "execution_count": 6,
   "metadata": {},
   "outputs": [
    {
     "name": "stdout",
     "output_type": "stream",
     "text": [
      "<class 'pandas.core.frame.DataFrame'>\n",
      "RangeIndex: 43577 entries, 0 to 43576\n",
      "Data columns (total 12 columns):\n",
      " #   Column            Non-Null Count  Dtype         \n",
      "---  ------            --------------  -----         \n",
      " 0   Transaction_ID    43577 non-null  category      \n",
      " 1   Date              43577 non-null  datetime64[ns]\n",
      " 2   Customer_ID       43577 non-null  category      \n",
      " 3   Product           43577 non-null  object        \n",
      " 4   Payment_Method    43577 non-null  category      \n",
      " 5   City              43577 non-null  object        \n",
      " 6   Store_Type        43577 non-null  category      \n",
      " 7   Discount_Applied  43577 non-null  category      \n",
      " 8   Season            43577 non-null  category      \n",
      " 9   Promotion         43577 non-null  category      \n",
      " 10  Category_prod     43577 non-null  object        \n",
      " 11  Price             43577 non-null  int64         \n",
      "dtypes: category(7), datetime64[ns](1), int64(1), object(3)\n",
      "memory usage: 2.6+ MB\n"
     ]
    }
   ],
   "source": [
    "data.info()"
   ]
  },
  {
   "cell_type": "code",
   "execution_count": 11,
   "metadata": {},
   "outputs": [
    {
     "data": {
      "text/plain": [
       "array(['San Diego', 'Houston', 'Chicago', 'New York', 'San Francisco',\n",
       "       'Miami', 'Los Angeles', 'Philadelphia'], dtype=object)"
      ]
     },
     "execution_count": 11,
     "metadata": {},
     "output_type": "execute_result"
    }
   ],
   "source": [
    "#Nombre de las ciudades\n",
    "data[\"City\"].unique()"
   ]
  },
  {
   "cell_type": "markdown",
   "metadata": {},
   "source": [
    "# Análisis Exploratorio de Datos (EDA)"
   ]
  },
  {
   "cell_type": "markdown",
   "metadata": {},
   "source": [
    "## Preparar los datos para análisis de productos por estación\n",
    "\n",
    "Antes de generar los gráficos, es necesario realizar una transformación de los datos. En este paso, se agrupan los productos por estación del año (`Season`) y se limpian los elementos dentro de las celdas para contar correctamente la frecuencia de productos por estación.\n",
    "\n",
    "Esto permitirá posteriormente construir gráficos de barras con los productos más vendidos en cada estación.\n"
   ]
  },
  {
   "cell_type": "code",
   "execution_count": 7,
   "metadata": {},
   "outputs": [
    {
     "name": "stderr",
     "output_type": "stream",
     "text": [
      "C:\\Users\\paulo\\AppData\\Local\\Temp\\ipykernel_6076\\635596035.py:2: FutureWarning: The default of observed=False is deprecated and will be changed to True in a future version of pandas. Pass observed=False to retain current behavior or observed=True to adopt the future default and silence this warning.\n",
      "  newdfs = data[['Product', 'Season']].groupby('Season')\n"
     ]
    }
   ],
   "source": [
    "# Agrupar los productos por estación (Season)\n",
    "newdfs = data[['Product', 'Season']].groupby('Season')\n",
    "\n",
    "# Extraer las estaciones únicas\n",
    "seasons = data.Season.unique()\n",
    "\n",
    "# Función para limpiar el texto eliminando corchetes y comillas\n",
    "def converter(input_element):\n",
    "    return input_element.replace('[','').replace(']','').replace('\"',\"\").replace(\"'\",\"\")\n",
    "\n",
    "# Crear una lista para almacenar los productos convertidos por estación\n",
    "dfs = []\n",
    "for i in seasons:\n",
    "    # Aplicar limpieza a los productos de cada estación y guardar resultado\n",
    "    dfs.append((i, newdfs.get_group(i)['Product'].apply(converter)))\n",
    "\n",
    "# Función para contar cuántas veces aparece cada producto en una estación\n",
    "def productcount(season, df):\n",
    "    k = {}\n",
    "    for i in df:\n",
    "        for j in i.split(','):\n",
    "            j = j.strip()\n",
    "            if j not in k:\n",
    "                k[j] = 1\n",
    "            else:\n",
    "                k[j] += 1\n",
    "    return season, k  # Devuelve la estación y el diccionario de productos contados\n",
    "\n",
    "# Aplicar el conteo de productos por estación\n",
    "answer = []\n",
    "for i in range(len(dfs)):\n",
    "    answer.append(productcount(dfs[i][0], dfs[i][1]))\n",
    "\n",
    "# Convertir los resultados en DataFrames con los 5 productos más comunes por estación\n",
    "dataframe = []\n",
    "for i in range(len(answer)):\n",
    "    df = pd.DataFrame(dict(products=answer[i][1].keys(), count=answer[i][1].values()))\n",
    "    df.index.name = answer[i][0] # Asignar el nombre de la estación como índice\n",
    "    dataframe.append(df)\n",
    "\n",
    "# Obtener los 5 productos más vendidos por estación (ordenados por cantidad descendente)\n",
    "winter = dataframe[0].sort_values(by='count', ascending=False).head(5)\n",
    "Fall = dataframe[1].sort_values(by='count', ascending=False).head(5)\n",
    "summer = dataframe[2].sort_values(by='count', ascending=False).head(5)\n",
    "spring = dataframe[3].sort_values(by='count', ascending=False).head(5)\n"
   ]
  },
  {
   "cell_type": "markdown",
   "metadata": {},
   "source": [
    "## Visualizar los 5 productos más vendidos por estación\n"
   ]
  },
  {
   "cell_type": "code",
   "execution_count": 8,
   "metadata": {},
   "outputs": [
    {
     "data": {
      "image/png": "[encoded data removed]",
      "text/plain": [
       "<Figure size 1200x800 with 4 Axes>"
      ]
     },
     "metadata": {},
     "output_type": "display_data"
    }
   ],
   "source": [
    "import matplotlib.pyplot as plt\n",
    "import seaborn as sns\n",
    "\n",
    "# Estilo de gráfico\n",
    "sns.set_theme(style=\"whitegrid\")\n",
    "\n",
    "# Colores personalizados por estación\n",
    "color_winter = \"#1f77b4\"  # Azul\n",
    "color_fall = \"#ff7f0e\"    # Naranja\n",
    "color_summer = \"#2ca02c\"  # Verde\n",
    "color_spring = \"#d62728\"  # Rojo\n",
    "\n",
    "fig, axes = plt.subplots(2, 2, figsize=(12, 8))\n",
    "\n",
    "# Lista de estaciones\n",
    "plots = [\n",
    "    (winter, color_winter, 'Winter', axes[0][0]),\n",
    "    (Fall, color_fall, 'Fall', axes[0][1]),\n",
    "    (summer, color_summer, 'Summer', axes[1][0]),\n",
    "    (spring, color_spring, 'Spring', axes[1][1]),\n",
    "]\n",
    "\n",
    "# Crear los 4 gráficos\n",
    "for df, color, title, ax in plots:\n",
    "    sns.barplot(x=df.products, y=df['count'], ax=ax, color=color)\n",
    "    ax.set_title(title, fontsize=12, fontweight='bold')\n",
    "    ax.set_ylabel('Frecuencia')\n",
    "    ax.set_xlabel('')\n",
    "    ax.tick_params(axis='x', rotation=30)\n",
    "\n",
    "    # Agregar etiquetas numéricas\n",
    "    for p in ax.patches:\n",
    "        ax.annotate(f'{p.get_height():.0f}', \n",
    "                    (p.get_x() + p.get_width() / 2., p.get_height()), \n",
    "                    ha='center', va='bottom', fontsize=9, \n",
    "                    xytext=(0, 5), textcoords='offset points')\n",
    "        \n",
    "\n",
    "# Agregar etiquetas numéricas y quitar líneas de fondo\n",
    "for ax in axes.flat:\n",
    "    ax.grid(False)\n",
    "    for p in ax.patches:\n",
    "        ax.annotate(f'{p.get_height():.0f}', \n",
    "                    (p.get_x() + p.get_width() / 2., p.get_height()), \n",
    "                    ha='center', va='bottom', fontsize=9, \n",
    "                    xytext=(0, 5), textcoords='offset points')\n",
    "\n",
    "\n",
    "# Título\n",
    "plt.suptitle('Top 5 Productos Más Vendidos por Estación', fontsize=14, fontweight='bold', y=1.02)\n",
    "plt.tight_layout(rect=[0, 0, 1, 0.96])\n",
    "plt.show()\n"
   ]
  },
  {
   "cell_type": "markdown",
   "metadata": {},
   "source": [
    "## Observaciones clave:\n",
    "\n",
    "- **Otoño (Fall)** destaca por un fuerte aumento en la compra de productos navideños como **árboles de Navidad**, **adornos** y **chocolate caliente**, lo que coincide con la preparación para las celebraciones de fin de año.\n",
    "\n",
    "- En **invierno (Winter)**, los productos más frecuentes son **artículos de cuidado personal** (como Baby Wipes), alimentos de alto consumo como **carne (Beef)**, **queso** y **café**, lo que sugiere una tendencia a abastecerse para el frío.\n",
    "\n",
    "- En **verano (Summer)**, dominan productos de consumo cotidiano como **queso, té, mantequilla de maní** y **arroz**, que pueden asociarse a una dieta ligera y prácticas al aire libre.\n",
    "\n",
    "- Durante la **primavera (Spring)**, aparecen productos más variados, desde frutas como **banana**, hasta artículos no alimenticios como **auriculares (Headphones)**, lo que puede estar relacionado con el aumento del tiempo al aire libre o consumo recreativo.\n",
    "\n"
   ]
  },
  {
   "cell_type": "markdown",
   "metadata": {},
   "source": [
    "## Transacciones por ciudad"
   ]
  },
  {
   "cell_type": "code",
   "execution_count": 15,
   "metadata": {},
   "outputs": [
    {
     "data": {
      "application/vnd.plotly.v1+json": {
       "config": {
        "plotlyServerURL": "https://plot.ly"
       },
       "data": [
        {
         "customdata": [
          [
           29.760427,
           -95.369803,
           7211,
           [
            "Tomatoes"
           ],
           [
            "Peanut Butter"
           ],
           16.547720127590242
          ],
          [
           25.76168,
           -80.19179,
           6860,
           [
            "Tea"
           ],
           [
            "Soda"
           ],
           15.74224935172224
          ],
          [
           32.7157,
           -117.1611,
           6434,
           [
            "Video Game Console"
           ],
           [
            "Potatoes"
           ],
           14.7646694357115
          ],
          [
           39.9526,
           -75.1652,
           5328,
           [
            "Headphones"
           ],
           [
            "Chicken"
           ],
           12.226633315739955
          ],
          [
           34.052235,
           -118.243683,
           5279,
           [
            "Ketchup"
           ],
           [
            "Video Game Console"
           ],
           12.114188677513367
          ],
          [
           41.878113,
           -87.629799,
           5183,
           [
            "Onions"
           ],
           [
            "Light Bulbs"
           ],
           11.893888978130665
          ],
          [
           40.712776,
           -74.005974,
           4222,
           [
            "Tomatoes"
           ],
           [
            "Garden Hose"
           ],
           9.68859719576841
          ],
          [
           37.774929,
           -122.419416,
           3060,
           [
            "Bread"
           ],
           [
            "Hair Gel"
           ],
           7.022052917823622
          ]
         ],
         "geo": "geo",
         "hovertemplate": "<b>%{hovertext}</b><br><br>Transacciones=%{marker.color}<br>Ciudad=%{text}<br>Producto_Mas_Comprado=%{customdata[3]}<br>Producto_Menos_Comprado=%{customdata[4]}<br>Porcentaje=%{customdata[5]}<extra></extra>",
         "hovertext": [
          "Houston",
          "Miami",
          "San Diego",
          "Philadelphia",
          "Los Angeles",
          "Chicago",
          "New York",
          "San Francisco"
         ],
         "lat": {
          "bdata": "0v4HWKvCPUBsBOJ1/cI5QKTfvg6cW0BAtRX7y+75Q0BxWvCirwZBQKKYvAFm8ERA1a90PjxbREBq3JvfMONCQA==",
          "dtype": "f8"
         },
         "legendgroup": "",
         "lon": {
          "bdata": "nb0z2qrXV8DKbJBJRgxUwK7YX3ZPSl3AJlMFo5LKUsDW5ZSAmI9dwG0Dd6BO6FXAFajF4GGAUsDT2jS215pewA==",
          "dtype": "f8"
         },
         "marker": {
          "color": {
           "bdata": "KxzMGiIZ0BSfFD8UfhD0Cw==",
           "dtype": "i2"
          },
          "coloraxis": "coloraxis",
          "size": {
           "bdata": "KxzMGiIZ0BSfFD8UfhD0Cw==",
           "dtype": "i2"
          },
          "sizemode": "area",
          "sizeref": 2.8844,
          "symbol": "circle"
         },
         "mode": "markers+text",
         "name": "",
         "showlegend": false,
         "text": [
          "Houston",
          "Miami",
          "San Diego",
          "Philadelphia",
          "Los Angeles",
          "Chicago",
          "New York",
          "San Francisco"
         ],
         "type": "scattergeo"
        },
        {
         "cells": {
          "values": [
           [
            "Houston",
            "Miami",
            "San Diego",
            "Philadelphia",
            "Los Angeles",
            "Chicago",
            "New York",
            "San Francisco"
           ],
           [
            7211,
            6860,
            6434,
            5328,
            5279,
            5183,
            4222,
            3060
           ],
           [
            "16.55%",
            "15.74%",
            "14.76%",
            "12.23%",
            "12.11%",
            "11.89%",
            "9.69%",
            "7.02%"
           ],
           [
            [
             "Tomatoes"
            ],
            [
             "Tea"
            ],
            [
             "Video Game Console"
            ],
            [
             "Headphones"
            ],
            [
             "Ketchup"
            ],
            [
             "Onions"
            ],
            [
             "Tomatoes"
            ],
            [
             "Bread"
            ]
           ],
           [
            [
             "Peanut Butter"
            ],
            [
             "Soda"
            ],
            [
             "Potatoes"
            ],
            [
             "Chicken"
            ],
            [
             "Video Game Console"
            ],
            [
             "Light Bulbs"
            ],
            [
             "Garden Hose"
            ],
            [
             "Hair Gel"
            ]
           ]
          ]
         },
         "domain": {
          "x": [
           0.73,
           1
          ],
          "y": [
           0,
           1
          ]
         },
         "header": {
          "values": [
           "Ciudad",
           "Transacciones",
           "Porcentaje de Transacciones",
           "Producto Más Comprado",
           "Producto Menos Comprado"
          ]
         },
         "type": "table"
        }
       ],
       "layout": {
        "annotations": [
         {
          "font": {
           "size": 16
          },
          "showarrow": false,
          "text": "Transacciones por ciudad",
          "x": 0.315,
          "xanchor": "center",
          "xref": "paper",
          "y": 1,
          "yanchor": "bottom",
          "yref": "paper"
         },
         {
          "font": {
           "size": 16
          },
          "showarrow": false,
          "text": "Transacciones y productos más/menos comprados",
          "x": 0.865,
          "xanchor": "center",
          "xref": "paper",
          "y": 1,
          "yanchor": "bottom",
          "yref": "paper"
         }
        ],
        "geo": {
         "domain": {
          "x": [
           0,
           0.63
          ],
          "y": [
           0,
           1
          ]
         }
        },
        "height": 600,
        "showlegend": false,
        "template": {
         "data": {
          "bar": [
           {
            "error_x": {
             "color": "#2a3f5f"
            },
            "error_y": {
             "color": "#2a3f5f"
            },
            "marker": {
             "line": {
              "color": "#E5ECF6",
              "width": 0.5
             },
             "pattern": {
              "fillmode": "overlay",
              "size": 10,
              "solidity": 0.2
             }
            },
            "type": "bar"
           }
          ],
          "barpolar": [
           {
            "marker": {
             "line": {
              "color": "#E5ECF6",
              "width": 0.5
             },
             "pattern": {
              "fillmode": "overlay",
              "size": 10,
              "solidity": 0.2
             }
            },
            "type": "barpolar"
           }
          ],
          "carpet": [
           {
            "aaxis": {
             "endlinecolor": "#2a3f5f",
             "gridcolor": "white",
             "linecolor": "white",
             "minorgridcolor": "white",
             "startlinecolor": "#2a3f5f"
            },
            "baxis": {
             "endlinecolor": "#2a3f5f",
             "gridcolor": "white",
             "linecolor": "white",
             "minorgridcolor": "white",
             "startlinecolor": "#2a3f5f"
            },
            "type": "carpet"
           }
          ],
          "choropleth": [
           {
            "colorbar": {
             "outlinewidth": 0,
             "ticks": ""
            },
            "type": "choropleth"
           }
          ],
          "contour": [
           {
            "colorbar": {
             "outlinewidth": 0,
             "ticks": ""
            },
            "colorscale": [
             [
              0,
              "#0d0887"
             ],
             [
              0.1111111111111111,
              "#46039f"
             ],
             [
              0.2222222222222222,
              "#7201a8"
             ],
             [
              0.3333333333333333,
              "#9c179e"
             ],
             [
              0.4444444444444444,
              "#bd3786"
             ],
             [
              0.5555555555555556,
              "#d8576b"
             ],
             [
              0.6666666666666666,
              "#ed7953"
             ],
             [
              0.7777777777777778,
              "#fb9f3a"
             ],
             [
              0.8888888888888888,
              "#fdca26"
             ],
             [
              1,
              "#f0f921"
             ]
            ],
            "type": "contour"
           }
          ],
          "contourcarpet": [
           {
            "colorbar": {
             "outlinewidth": 0,
             "ticks": ""
            },
            "type": "contourcarpet"
           }
          ],
          "heatmap": [
           {
            "colorbar": {
             "outlinewidth": 0,
             "ticks": ""
            },
            "colorscale": [
             [
              0,
              "#0d0887"
             ],
             [
              0.1111111111111111,
              "#46039f"
             ],
             [
              0.2222222222222222,
              "#7201a8"
             ],
             [
              0.3333333333333333,
              "#9c179e"
             ],
             [
              0.4444444444444444,
              "#bd3786"
             ],
             [
              0.5555555555555556,
              "#d8576b"
             ],
             [
              0.6666666666666666,
              "#ed7953"
             ],
             [
              0.7777777777777778,
              "#fb9f3a"
             ],
             [
              0.8888888888888888,
              "#fdca26"
             ],
             [
              1,
              "#f0f921"
             ]
            ],
            "type": "heatmap"
           }
          ],
          "histogram": [
           {
            "marker": {
             "pattern": {
              "fillmode": "overlay",
              "size": 10,
              "solidity": 0.2
             }
            },
            "type": "histogram"
           }
          ],
          "histogram2d": [
           {
            "colorbar": {
             "outlinewidth": 0,
             "ticks": ""
            },
            "colorscale": [
             [
              0,
              "#0d0887"
             ],
             [
              0.1111111111111111,
              "#46039f"
             ],
             [
              0.2222222222222222,
              "#7201a8"
             ],
             [
              0.3333333333333333,
              "#9c179e"
             ],
             [
              0.4444444444444444,
              "#bd3786"
             ],
             [
              0.5555555555555556,
              "#d8576b"
             ],
             [
              0.6666666666666666,
              "#ed7953"
             ],
             [
              0.7777777777777778,
              "#fb9f3a"
             ],
             [
              0.8888888888888888,
              "#fdca26"
             ],
             [
              1,
              "#f0f921"
             ]
            ],
            "type": "histogram2d"
           }
          ],
          "histogram2dcontour": [
           {
            "colorbar": {
             "outlinewidth": 0,
             "ticks": ""
            },
            "colorscale": [
             [
              0,
              "#0d0887"
             ],
             [
              0.1111111111111111,
              "#46039f"
             ],
             [
              0.2222222222222222,
              "#7201a8"
             ],
             [
              0.3333333333333333,
              "#9c179e"
             ],
             [
              0.4444444444444444,
              "#bd3786"
             ],
             [
              0.5555555555555556,
              "#d8576b"
             ],
             [
              0.6666666666666666,
              "#ed7953"
             ],
             [
              0.7777777777777778,
              "#fb9f3a"
             ],
             [
              0.8888888888888888,
              "#fdca26"
             ],
             [
              1,
              "#f0f921"
             ]
            ],
            "type": "histogram2dcontour"
           }
          ],
          "mesh3d": [
           {
            "colorbar": {
             "outlinewidth": 0,
             "ticks": ""
            },
            "type": "mesh3d"
           }
          ],
          "parcoords": [
           {
            "line": {
             "colorbar": {
              "outlinewidth": 0,
              "ticks": ""
             }
            },
            "type": "parcoords"
           }
          ],
          "pie": [
           {
            "automargin": true,
            "type": "pie"
           }
          ],
          "scatter": [
           {
            "fillpattern": {
             "fillmode": "overlay",
             "size": 10,
             "solidity": 0.2
            },
            "type": "scatter"
           }
          ],
          "scatter3d": [
           {
            "line": {
             "colorbar": {
              "outlinewidth": 0,
              "ticks": ""
             }
            },
            "marker": {
             "colorbar": {
              "outlinewidth": 0,
              "ticks": ""
             }
            },
            "type": "scatter3d"
           }
          ],
          "scattercarpet": [
           {
            "marker": {
             "colorbar": {
              "outlinewidth": 0,
              "ticks": ""
             }
            },
            "type": "scattercarpet"
           }
          ],
          "scattergeo": [
           {
            "marker": {
             "colorbar": {
              "outlinewidth": 0,
              "ticks": ""
             }
            },
            "type": "scattergeo"
           }
          ],
          "scattergl": [
           {
            "marker": {
             "colorbar": {
              "outlinewidth": 0,
              "ticks": ""
             }
            },
            "type": "scattergl"
           }
          ],
          "scattermap": [
           {
            "marker": {
             "colorbar": {
              "outlinewidth": 0,
              "ticks": ""
             }
            },
            "type": "scattermap"
           }
          ],
          "scattermapbox": [
           {
            "marker": {
             "colorbar": {
              "outlinewidth": 0,
              "ticks": ""
             }
            },
            "type": "scattermapbox"
           }
          ],
          "scatterpolar": [
           {
            "marker": {
             "colorbar": {
              "outlinewidth": 0,
              "ticks": ""
             }
            },
            "type": "scatterpolar"
           }
          ],
          "scatterpolargl": [
           {
            "marker": {
             "colorbar": {
              "outlinewidth": 0,
              "ticks": ""
             }
            },
            "type": "scatterpolargl"
           }
          ],
          "scatterternary": [
           {
            "marker": {
             "colorbar": {
              "outlinewidth": 0,
              "ticks": ""
             }
            },
            "type": "scatterternary"
           }
          ],
          "surface": [
           {
            "colorbar": {
             "outlinewidth": 0,
             "ticks": ""
            },
            "colorscale": [
             [
              0,
              "#0d0887"
             ],
             [
              0.1111111111111111,
              "#46039f"
             ],
             [
              0.2222222222222222,
              "#7201a8"
             ],
             [
              0.3333333333333333,
              "#9c179e"
             ],
             [
              0.4444444444444444,
              "#bd3786"
             ],
             [
              0.5555555555555556,
              "#d8576b"
             ],
             [
              0.6666666666666666,
              "#ed7953"
             ],
             [
              0.7777777777777778,
              "#fb9f3a"
             ],
             [
              0.8888888888888888,
              "#fdca26"
             ],
             [
              1,
              "#f0f921"
             ]
            ],
            "type": "surface"
           }
          ],
          "table": [
           {
            "cells": {
             "fill": {
              "color": "#EBF0F8"
             },
             "line": {
              "color": "white"
             }
            },
            "header": {
             "fill": {
              "color": "#C8D4E3"
             },
             "line": {
              "color": "white"
             }
            },
            "type": "table"
           }
          ]
         },
         "layout": {
          "annotationdefaults": {
           "arrowcolor": "#2a3f5f",
           "arrowhead": 0,
           "arrowwidth": 1
          },
          "autotypenumbers": "strict",
          "coloraxis": {
           "colorbar": {
            "outlinewidth": 0,
            "ticks": ""
           }
          },
          "colorscale": {
           "diverging": [
            [
             0,
             "#8e0152"
            ],
            [
             0.1,
             "#c51b7d"
            ],
            [
             0.2,
             "#de77ae"
            ],
            [
             0.3,
             "#f1b6da"
            ],
            [
             0.4,
             "#fde0ef"
            ],
            [
             0.5,
             "#f7f7f7"
            ],
            [
             0.6,
             "#e6f5d0"
            ],
            [
             0.7,
             "#b8e186"
            ],
            [
             0.8,
             "#7fbc41"
            ],
            [
             0.9,
             "#4d9221"
            ],
            [
             1,
             "#276419"
            ]
           ],
           "sequential": [
            [
             0,
             "#0d0887"
            ],
            [
             0.1111111111111111,
             "#46039f"
            ],
            [
             0.2222222222222222,
             "#7201a8"
            ],
            [
             0.3333333333333333,
             "#9c179e"
            ],
            [
             0.4444444444444444,
             "#bd3786"
            ],
            [
             0.5555555555555556,
             "#d8576b"
            ],
            [
             0.6666666666666666,
             "#ed7953"
            ],
            [
             0.7777777777777778,
             "#fb9f3a"
            ],
            [
             0.8888888888888888,
             "#fdca26"
            ],
            [
             1,
             "#f0f921"
            ]
           ],
           "sequentialminus": [
            [
             0,
             "#0d0887"
            ],
            [
             0.1111111111111111,
             "#46039f"
            ],
            [
             0.2222222222222222,
             "#7201a8"
            ],
            [
             0.3333333333333333,
             "#9c179e"
            ],
            [
             0.4444444444444444,
             "#bd3786"
            ],
            [
             0.5555555555555556,
             "#d8576b"
            ],
            [
             0.6666666666666666,
             "#ed7953"
            ],
            [
             0.7777777777777778,
             "#fb9f3a"
            ],
            [
             0.8888888888888888,
             "#fdca26"
            ],
            [
             1,
             "#f0f921"
            ]
           ]
          },
          "colorway": [
           "#636efa",
           "#EF553B",
           "#00cc96",
           "#ab63fa",
           "#FFA15A",
           "#19d3f3",
           "#FF6692",
           "#B6E880",
           "#FF97FF",
           "#FECB52"
          ],
          "font": {
           "color": "#2a3f5f"
          },
          "geo": {
           "bgcolor": "white",
           "lakecolor": "white",
           "landcolor": "#E5ECF6",
           "showlakes": true,
           "showland": true,
           "subunitcolor": "white"
          },
          "hoverlabel": {
           "align": "left"
          },
          "hovermode": "closest",
          "mapbox": {
           "style": "light"
          },
          "paper_bgcolor": "white",
          "plot_bgcolor": "#E5ECF6",
          "polar": {
           "angularaxis": {
            "gridcolor": "white",
            "linecolor": "white",
            "ticks": ""
           },
           "bgcolor": "#E5ECF6",
           "radialaxis": {
            "gridcolor": "white",
            "linecolor": "white",
            "ticks": ""
           }
          },
          "scene": {
           "xaxis": {
            "backgroundcolor": "#E5ECF6",
            "gridcolor": "white",
            "gridwidth": 2,
            "linecolor": "white",
            "showbackground": true,
            "ticks": "",
            "zerolinecolor": "white"
           },
           "yaxis": {
            "backgroundcolor": "#E5ECF6",
            "gridcolor": "white",
            "gridwidth": 2,
            "linecolor": "white",
            "showbackground": true,
            "ticks": "",
            "zerolinecolor": "white"
           },
           "zaxis": {
            "backgroundcolor": "#E5ECF6",
            "gridcolor": "white",
            "gridwidth": 2,
            "linecolor": "white",
            "showbackground": true,
            "ticks": "",
            "zerolinecolor": "white"
           }
          },
          "shapedefaults": {
           "line": {
            "color": "#2a3f5f"
           }
          },
          "ternary": {
           "aaxis": {
            "gridcolor": "white",
            "linecolor": "white",
            "ticks": ""
           },
           "baxis": {
            "gridcolor": "white",
            "linecolor": "white",
            "ticks": ""
           },
           "bgcolor": "#E5ECF6",
           "caxis": {
            "gridcolor": "white",
            "linecolor": "white",
            "ticks": ""
           }
          },
          "title": {
           "x": 0.05
          },
          "xaxis": {
           "automargin": true,
           "gridcolor": "white",
           "linecolor": "white",
           "ticks": "",
           "title": {
            "standoff": 15
           },
           "zerolinecolor": "white",
           "zerolinewidth": 2
          },
          "yaxis": {
           "automargin": true,
           "gridcolor": "white",
           "linecolor": "white",
           "ticks": "",
           "title": {
            "standoff": 15
           },
           "zerolinecolor": "white",
           "zerolinewidth": 2
          }
         }
        },
        "title": {
         "text": "Resumen de transacciones por ciudad"
        }
       }
      }
     },
     "metadata": {},
     "output_type": "display_data"
    }
   ],
   "source": [
    "import plotly.express as px\n",
    "import plotly.graph_objects as go\n",
    "from plotly.subplots import make_subplots\n",
    "\n",
    "\n",
    "# Leer archivos\n",
    "df_ciudades = pd.read_csv('georef.csv')\n",
    "\n",
    "# Separar los productos en la columna\n",
    "data['Product'] = data['Product'].str.strip(\"[]\").str.replace(\"'\", \"\").str.split(', ')\n",
    "\n",
    "# Contar transacciones por ciudad\n",
    "city_counts = data['City'].value_counts().reset_index()\n",
    "city_counts.columns = ['Ciudad', 'Transacciones']\n",
    "\n",
    "# Producto más comprado por ciudad\n",
    "mas_comprado = data.groupby('City')['Product'].agg(lambda x: x.value_counts().index[0]).reset_index()\n",
    "mas_comprado.columns = ['Ciudad', 'Producto_Mas_Comprado']\n",
    "\n",
    "# Producto menos comprado por ciudad\n",
    "menos_comprado = data.groupby('City')['Product'].agg(lambda x: x.value_counts().index[-1]).reset_index()\n",
    "menos_comprado.columns = ['Ciudad', 'Producto_Menos_Comprado']\n",
    "\n",
    "# Unir todo en un solo DataFrame\n",
    "df_merged = pd.merge(city_counts, df_ciudades, left_on='Ciudad', right_on='City')\n",
    "df_merged = pd.merge(df_merged, mas_comprado, on='Ciudad')\n",
    "df_merged = pd.merge(df_merged, menos_comprado, on='Ciudad')\n",
    "\n",
    "# Calcular porcentaje de transacciones\n",
    "total = df_merged['Transacciones'].sum()\n",
    "df_merged['Porcentaje'] = (df_merged['Transacciones'] / total) * 100\n",
    "\n",
    "# Crear mapa\n",
    "mapa = px.scatter_geo(\n",
    "    df_merged,\n",
    "    lat='Latitude',\n",
    "    lon='Longitude',\n",
    "    text='Ciudad',\n",
    "    size='Transacciones',\n",
    "    size_max=50,\n",
    "    title='Transacciones promedio por ciudad',\n",
    "    scope='usa',\n",
    "    hover_name='Ciudad',\n",
    "    hover_data={\n",
    "        'Latitude': False,\n",
    "        'Longitude': False,\n",
    "        'Transacciones': True,\n",
    "        'Producto_Mas_Comprado': True,\n",
    "        'Producto_Menos_Comprado': True,\n",
    "        'Porcentaje': True\n",
    "    },\n",
    "    color='Transacciones',\n",
    "    color_continuous_scale='Viridis',\n",
    "    labels={'Transacciones': 'Transacciones'}\n",
    ")\n",
    "\n",
    "# Leyenda del mapa\n",
    "mapa.update_layout(coloraxis_colorbar=dict(\n",
    "    title='Transacciones',\n",
    "    thicknessmode=\"pixels\", thickness=10,\n",
    "    lenmode=\"pixels\", len=150,\n",
    "    yanchor=\"top\", y=0.8,\n",
    "    ticks=\"outside\"\n",
    "))\n",
    "\n",
    "# Crear tabla con productos y transacciones\n",
    "tabla = go.Figure(data=[go.Table(\n",
    "    header=dict(values=[\n",
    "        'Ciudad',\n",
    "        'Transacciones',\n",
    "        'Porcentaje de Transacciones',\n",
    "        'Producto Más Comprado',\n",
    "        'Producto Menos Comprado'\n",
    "    ]),\n",
    "    cells=dict(values=[\n",
    "        df_merged['Ciudad'],\n",
    "        df_merged['Transacciones'],\n",
    "        df_merged['Porcentaje'].map(\"{:.2f}%\".format),\n",
    "        df_merged['Producto_Mas_Comprado'],\n",
    "        df_merged['Producto_Menos_Comprado']\n",
    "    ])\n",
    ")])\n",
    "\n",
    "tabla.update_layout(\n",
    "    title='Transacciones y productos más/menos comprados por ciudad',\n",
    "    margin=dict(l=0, r=0, t=30, b=0)\n",
    ")\n",
    "\n",
    "# Subplots: mapa + tabla\n",
    "fig = make_subplots(\n",
    "    rows=1, cols=2,\n",
    "    column_widths=[0.7, 0.3],\n",
    "    subplot_titles=(\n",
    "        'Transacciones por ciudad',\n",
    "        'Transacciones y productos más/menos comprados'\n",
    "    ),\n",
    "    specs=[[{'type': 'scattergeo'}, {'type': 'table'}]]\n",
    ")\n",
    "\n",
    "for trace in mapa.data:\n",
    "    fig.add_trace(trace, row=1, col=1)\n",
    "\n",
    "for trace in tabla.data:\n",
    "    fig.add_trace(trace, row=1, col=2)\n",
    "\n",
    "fig.update_layout(\n",
    "    title_text='Resumen de transacciones por ciudad',\n",
    "    height=600,\n",
    "    showlegend=False\n",
    ")\n",
    "\n",
    "fig.show()"
   ]
  },
  {
   "attachments": {
    "image.png": {
     "image/png": "[encoded data removed]"
    }
   },
   "cell_type": "markdown",
   "metadata": {},
   "source": [
    "![image.png](attachment:image.png)"
   ]
  },
  {
   "cell_type": "markdown",
   "metadata": {},
   "source": [
    "# Análisis geográfico del comportamiento de compra\n",
    "\n",
    "- **Houston** lidera en volumen de transacciones, representando un **16.55% del total**, seguido de **Miami** y **San Diego**, lo que indica una fuerte concentración del consumo en estas tres ciudades.\n",
    "\n",
    "- El **producto más comprado en Houston** fue **tomates**, mientras que en **Miami** fue **té**, y en **San Diego**, sorprendentemente, una **consola de videojuegos**. Esto sugiere perfiles de consumo muy distintos entre ciudades: desde necesidades básicas hasta productos de entretenimiento.\n",
    "\n",
    "- En contraste, los **productos menos comprados** muestran un patrón curioso: en ciudades como **Chicago** o **Nueva York**, los productos menos demandados fueron artículos del hogar como **bombillas** o **mangueras de jardín**, lo que podría estar asociado al estilo de vida urbano y a la menor necesidad de productos para espacios exteriores.\n",
    "\n",
    "- **San Francisco**, con la menor cantidad de transacciones, tiene como producto menos comprado el **gel para el cabello**, posiblemente indicando una baja rotación o una oferta poco alineada con la demanda local.\n",
    "\n",
    "- El **mapa refuerza visualmente** estas conclusiones, mostrando cómo las ciudades con mayor actividad tienen una presencia más destacada tanto en color como en tamaño.\n",
    "\n",
    "Este tipo de análisis permite diseñar **estrategias de marketing localizadas**, ajustando promociones según la demanda específica de cada ciudad.\n"
   ]
  },
  {
   "cell_type": "markdown",
   "metadata": {},
   "source": [
    "# Productos más vendidos"
   ]
  },
  {
   "cell_type": "code",
   "execution_count": 20,
   "metadata": {},
   "outputs": [
    {
     "name": "stderr",
     "output_type": "stream",
     "text": [
      "C:\\Users\\paulo\\AppData\\Local\\Temp\\ipykernel_34096\\1743174726.py:14: FutureWarning:\n",
      "\n",
      "\n",
      "\n",
      "Passing `palette` without assigning `hue` is deprecated and will be removed in v0.14.0. Assign the `x` variable to `hue` and set `legend=False` for the same effect.\n",
      "\n",
      "\n"
     ]
    },
    {
     "data": {
      "image/png": "[encoded data removed]",
      "text/plain": [
       "<Figure size 1000x600 with 1 Axes>"
      ]
     },
     "metadata": {},
     "output_type": "display_data"
    }
   ],
   "source": [
    "import pandas as pd\n",
    "import seaborn as sns\n",
    "import matplotlib.pyplot as plt\n",
    "\n",
    "# Asegurar que cada producto sea una cadena\n",
    "data['Product'] = data['Product'].astype(str)\n",
    "\n",
    "# Calcular la frecuencia de cada producto y convertirlo en un DataFrame\n",
    "freq = data['Product'].value_counts().reset_index().head(10)\n",
    "freq.columns = ['Product', 'Count']\n",
    "\n",
    "# Crear gráfico de barras\n",
    "plt.figure(figsize=(10, 6))\n",
    "sns.barplot(x='Product', y='Count', data=freq, palette='viridis')\n",
    "\n",
    "# Diseño\n",
    "plt.xticks(rotation=90) \n",
    "plt.title('Productos Más Vendidos', fontsize=16)\n",
    "plt.xlabel('Producto', fontsize=12)\n",
    "plt.ylabel('Cantidad Vendida', fontsize=12)\n",
    "plt.tight_layout()\n",
    "\n",
    "# Mostrar el gráfico\n",
    "plt.show()\n",
    "\n"
   ]
  },
  {
   "cell_type": "markdown",
   "metadata": {},
   "source": [
    "# Análisis de los productos más vendidos\n",
    "\n",
    "- El producto con mayor cantidad de ventas es **cheese (queso)**, seguido muy de cerca por **candy canes (bastones de caramelo)** y **beer (cerveza)**, lo que sugiere un alto consumo de alimentos básicos y productos estacionales.\n",
    "\n",
    "- También se observa una fuerte presencia de productos **relacionados con celebraciones** o fines de semana, como **beer (cerveza)**, **candy canes (bastones de caramelo)**, **cereal bars (barras de cereal)** y **Christmas Tree (árbol de Navidad)**. Esto podría indicar que los clientes realizan muchas compras relacionadas con fechas festivas o reuniones.\n",
    "\n",
    "- Algunos productos no alimenticios también se posicionan dentro del top 10, como **headphones (auriculares)** y **baby wipes (toallitas húmedas para bebés)**, lo cual podría deberse a campañas promocionales o necesidades recurrentes de los hogares.\n",
    "\n",
    "- La venta equilibrada de alimentos (como **banana (plátano)**, **eggs (huevos)**, **syrup (jarabe)**) junto con productos tecnológicos y de higiene indica un **mix de consumo diverso** que se debe tener en cuenta para futuras estrategias comerciales y de inventario.\n",
    "\n",
    "Este tipo de análisis ayuda a identificar productos ancla, planificar inventario y diseñar promociones cruzadas entre productos complementarios.\n"
   ]
  },
  {
   "cell_type": "markdown",
   "metadata": {},
   "source": [
    "### K-Means: Selección del Número de Clústeres (Elbow & Silhouette)\n"
   ]
  },
  {
   "cell_type": "code",
   "execution_count": 34,
   "metadata": {},
   "outputs": [],
   "source": [
    "#Agrupar las variables de interés\n",
    "grouped_data = data.groupby('Customer_ID').agg(\n",
    "    total_price=('Price', 'sum'),  # Suma total de precios por cliente\n",
    "    transaction_count=('Transaction_ID', 'count'),  # Número total de transacciones por cliente\n",
    "    ticket_promedio=('Price', 'mean')  # Ticket promedio por cliente\n",
    ").reset_index()\n"
   ]
  },
  {
   "cell_type": "code",
   "execution_count": 36,
   "metadata": {},
   "outputs": [
    {
     "data": {
      "image/png": "[encoded data removed]",
      "text/plain": [
       "<Figure size 1200x500 with 2 Axes>"
      ]
     },
     "metadata": {},
     "output_type": "display_data"
    }
   ],
   "source": [
    "from sklearn.preprocessing import StandardScaler\n",
    "from sklearn.cluster import KMeans\n",
    "from sklearn.metrics import silhouette_score\n",
    "import matplotlib.pyplot as plt\n",
    "import warnings\n",
    "warnings.filterwarnings(\"ignore\", category=UserWarning)\n",
    "\n",
    "\n",
    "grouped_data['Customer_ID'] = grouped_data['Customer_ID'].astype('category')\n",
    "\n",
    "\n",
    "# Seleccionar las variables para el clustering\n",
    "X = grouped_data[['total_price', 'transaction_count', 'ticket_promedio']]\n",
    "\n",
    "\n",
    "# Estandarizar los datos\n",
    "scaler = StandardScaler()\n",
    "data_escalada = scaler.fit_transform(X)\n",
    "\n",
    "# Determinar el número óptimo de clústeres\n",
    "sse = []\n",
    "silhouette_scores = []\n",
    "k_range = range(2, 10)\n",
    "\n",
    "for k in k_range:\n",
    "    kmeans = KMeans(n_clusters=k, random_state=2025)\n",
    "    kmeans.fit(data_escalada)\n",
    "    sse.append(kmeans.inertia_)\n",
    "    silhouette_scores.append(silhouette_score(data_escalada, kmeans.labels_))\n",
    "\n",
    "# Graficar SSE y Silhouette Score\n",
    "plt.figure(figsize=(12, 5))\n",
    "\n",
    "plt.subplot(1, 2, 1)\n",
    "plt.plot(k_range, sse, marker='o')\n",
    "plt.title('Método del Codo (SSE)')\n",
    "plt.xlabel('Número de Clusters (k)')\n",
    "plt.ylabel('SSE')\n",
    "\n",
    "plt.subplot(1, 2, 2)\n",
    "plt.plot(k_range, silhouette_scores, marker='o')\n",
    "plt.title('Silhouette Score')\n",
    "plt.xlabel('Número de Clusters (k)')\n",
    "plt.ylabel('Silhouette Score')\n",
    "\n",
    "plt.tight_layout()\n",
    "plt.show()\n",
    "\n"
   ]
  },
  {
   "cell_type": "markdown",
   "metadata": {},
   "source": [
    "# Conclusión: Determinación del Número Óptimo de Clusters\n",
    "\n",
    "- En el gráfico del **Método del Codo (SSE)** se observa una disminución pronunciada de la inercia hasta **k=5**, a partir del cual la mejora marginal se reduce considerablemente. Esto indica que **k=5** es un buen punto de corte antes de que los beneficios de agregar más clústeres se vuelvan mínimos.\n",
    "\n",
    "- El gráfico del **Silhouette Score**, que evalúa la cohesión y separación de los clusters, también muestra uno de sus valores más altos en **k=5** (~0.35), lo que refuerza la elección.\n",
    "\n",
    "- Aunque **k=2** tiene un Silhouette Score más alto (~0.38), ese valor suele representar una segmentación demasiado general, que puede no capturar la diversidad real entre los clientes.\n",
    "\n",
    "Por lo tanto, se concluye que **la mejor cantidad de segmentos para este caso es 5 clusters**, ya que ofrece un buen equilibrio entre compacidad (SSE) y separación (Silhouette).\n",
    "\n",
    "Esto permitirá agrupar a los clientes en **5 segmentos diferenciados** según su comportamiento de compra.\n"
   ]
  },
  {
   "cell_type": "markdown",
   "metadata": {},
   "source": [
    "# Aplicar K-Means con 5 clusters"
   ]
  },
  {
   "cell_type": "code",
   "execution_count": 42,
   "metadata": {},
   "outputs": [],
   "source": [
    "# Seleccionar el número óptimo de clústeres\n",
    "optimal_k = 5\n",
    "kmeans = KMeans(n_clusters=optimal_k, random_state=2025)\n",
    "kmeans.fit(data_escalada)\n",
    "\n",
    "# Asignar los clústeres al conjunto de entrenamiento y validación\n",
    "grouped_data['Cluster'] = kmeans.labels_"
   ]
  },
  {
   "cell_type": "code",
   "execution_count": 43,
   "metadata": {},
   "outputs": [
    {
     "data": {
      "application/vnd.plotly.v1+json": {
       "config": {
        "plotlyServerURL": "https://plot.ly"
       },
       "data": [
        {
         "hovertemplate": "total_price=%{x}<br>ticket_promedio=%{y}<br>transaction_count=%{z}<br>Cluster=%{marker.color}<extra></extra>",
         "legendgroup": "",
         "marker": {
          "color": {
           "bdata": "AgAAAAIAAAABAAAAAwAAAAEAAAAEAAAAAgAAAAMAAAABAAAAAgAAAAAAAAABAAAAAQAAAAAAAAAAAAAAAAAAAAMAAAAAAAAAAQAAAAEAAAADAAAAAgAAAAIAAAABAAAAAQAAAAEAAAADAAAAAQAAAAIAAAABAAAAAgAAAAQAAAAEAAAAAAAAAAIAAAACAAAAAAAAAAEAAAAAAAAAAAAAAAEAAAABAAAAAwAAAAEAAAABAAAAAwAAAAIAAAABAAAAAAAAAAEAAAAAAAAAAQAAAAAAAAABAAAAAAAAAAMAAAABAAAAAQAAAAAAAAAAAAAAAQAAAAEAAAAAAAAAAwAAAAEAAAADAAAAAAAAAAQAAAACAAAAAwAAAAAAAAADAAAAAAAAAAQAAAACAAAAAAAAAAEAAAACAAAABAAAAAMAAAADAAAAAgAAAAAAAAAEAAAAAAAAAAMAAAABAAAAAgAAAAAAAAAAAAAAAQAAAAQAAAABAAAAAAAAAAEAAAAAAAAAAgAAAAIAAAAAAAAAAgAAAA==",
           "dtype": "i4"
          },
          "coloraxis": "coloraxis",
          "symbol": "circle"
         },
         "mode": "markers",
         "name": "",
         "scene": "scene",
         "showlegend": false,
         "type": "scatter3d",
         "x": {
          "bdata": "9GmJURpIe0IUUvt9wF4zKB9NyFPjSdNKolhcPPVHakMZOVhB5UvAS0Q77F7BX6dbmFSkWntAol9hWONJ9lUae/ZmzE1OXF1NTUsEU88yPEG8VS5UuzJOVg1g7TPtVnZffTivX9pH2Eu2N21MXTsOPvVZPlQlKgtEtlr1TVND3TwWXhUzlEK7cVxZ3iZgSV87nkRgbnhfBk3LVqhlcW/oLLM9KFlJSSJxbj2qRGFSxWG8OeNC+0k/apRSPkLVTKhG7lhPYDpMWlw=",
          "dtype": "i2"
         },
         "y": {
          "bdata": "quZvvH/2S0DaeRePgMlGQMjEn+MRPUZAS5z6PbdkRkAfzhMpaBpOQPnu68zDJlNAA3dFf2YDR0AFJp2aB3k5QGEdbd6n+EpAsi/5AEljREBno76zUR9EQOzETuzEjkhAVcytzkgFSkBPCfKUII9BQJeWlpaW1kRA9MrYfkdvQ0C6ubm5uelBQAdGnWncwEJAZ/cuEyEaSUBRQMfmu+FHQGSNp4kZdUJAKDReL4dCSUBHwkDA6jhIQHZiJ3ZiM0xA/1UqQLX6S0AUzgWm8k5KQA/u/TAjP0ZAYj4SG+YjTEC3bdu2bTNEQLycgpdTIEhAnHdbrxxDR0CNEj+jxE9QQGwDeqoVWk1AFPRGQW8URkDnOkZxriNKQJU7fjIUiENARCb76qRKREByIepm0LJKQL6E9hLaGz5AWDgyJ+D5Q0AdkFewBhFKQBPaS2gv8UhAjptvoIaxQUBzc3NzcxNLQBSuR+F6vE5A001iEFi5QUAREREREdFFQEKqZR1oO01Aj14Z2+9IQEBU4anwVDhMQKG9hPYSSkVAam9+pma8R0CgDfjZgJ8/QMP+LgYVoUdAugWKsbb/QEB8GmG5pxFFQO5lSh1WWUpAX0J7Ce31SECSJEmSJBU4QJPQh0z2VUJAnRWgScmiTkCzzyE1wYhHQFyPwvUoPEFAjw9Byk2FRUD7Hb0yth9LQIsTUvIso0BAm3hWNBLwQkDx5YYYkA5NQFVVVVVVFUlAj/TXcxXLO0Cx3NMIyz1EQE5vetObpkRATGgvob1URED5ejAOaFBQQIc0j3OhZEpAci0Fw7EnRkCgp1qhJb5IQLy7u7u7G0tAfhsRzKYFUUDv7u7u7u4/QIPzMTgfQ0NACcs9jbDcRUCYDZp82cBEQCReReJVJE9AuzZRsmsTQkCKpz2uAgJHQD7LB9nCsUhAG8prKK9xS0CO/Fwxy5FAQBJSv2BiLUJAbl3eAUcKR0CacvfO1UlOQB6SeUjmIUhAFeGWmg17REATjLeyzzFHQPhavCvzmURA6Vp3PrDMSEAO9poYqTVJQPhxB83m00VARzpspMMGSEA=",
          "dtype": "f8"
         },
         "z": {
          "bdata": "5QHKAZ8BfAFdAaUBDwKUAW4BDgLWAYYBtAG4AboBvAGYAb4BgwGWAZsB4QH6AaABgwG5AXMBswEwAogB2QHjAcEBwwHEAfsB2wGOAbABogGlAbABbwGYAZABdwH+AaIBvAGyAbABmQHDAZ4BvwF5AbUBsAHAAdsBewGoAfQBagG8AYkBwgH1AcgBZgHQAXABsAGxAc8BvQHBAeABowFoAZoBCgLEAdEBswF+AasByAG+AdcBmwHBAbYBngGoAbcBywHpAb8B7AE=",
          "dtype": "i2"
         }
        }
       ],
       "layout": {
        "coloraxis": {
         "colorbar": {
          "title": {
           "text": "Cluster"
          }
         },
         "colorscale": [
          [
           0,
           "#0d0887"
          ],
          [
           0.1111111111111111,
           "#46039f"
          ],
          [
           0.2222222222222222,
           "#7201a8"
          ],
          [
           0.3333333333333333,
           "#9c179e"
          ],
          [
           0.4444444444444444,
           "#bd3786"
          ],
          [
           0.5555555555555556,
           "#d8576b"
          ],
          [
           0.6666666666666666,
           "#ed7953"
          ],
          [
           0.7777777777777778,
           "#fb9f3a"
          ],
          [
           0.8888888888888888,
           "#fdca26"
          ],
          [
           1,
           "#f0f921"
          ]
         ]
        },
        "height": 800,
        "legend": {
         "tracegroupgap": 0
        },
        "scene": {
         "domain": {
          "x": [
           0,
           1
          ],
          "y": [
           0,
           1
          ]
         },
         "xaxis": {
          "title": {
           "text": "total_price"
          }
         },
         "yaxis": {
          "title": {
           "text": "ticket_promedio"
          }
         },
         "zaxis": {
          "title": {
           "text": "transaction_count"
          }
         }
        },
        "template": {
         "data": {
          "bar": [
           {
            "error_x": {
             "color": "#2a3f5f"
            },
            "error_y": {
             "color": "#2a3f5f"
            },
            "marker": {
             "line": {
              "color": "#E5ECF6",
              "width": 0.5
             },
             "pattern": {
              "fillmode": "overlay",
              "size": 10,
              "solidity": 0.2
             }
            },
            "type": "bar"
           }
          ],
          "barpolar": [
           {
            "marker": {
             "line": {
              "color": "#E5ECF6",
              "width": 0.5
             },
             "pattern": {
              "fillmode": "overlay",
              "size": 10,
              "solidity": 0.2
             }
            },
            "type": "barpolar"
           }
          ],
          "carpet": [
           {
            "aaxis": {
             "endlinecolor": "#2a3f5f",
             "gridcolor": "white",
             "linecolor": "white",
             "minorgridcolor": "white",
             "startlinecolor": "#2a3f5f"
            },
            "baxis": {
             "endlinecolor": "#2a3f5f",
             "gridcolor": "white",
             "linecolor": "white",
             "minorgridcolor": "white",
             "startlinecolor": "#2a3f5f"
            },
            "type": "carpet"
           }
          ],
          "choropleth": [
           {
            "colorbar": {
             "outlinewidth": 0,
             "ticks": ""
            },
            "type": "choropleth"
           }
          ],
          "contour": [
           {
            "colorbar": {
             "outlinewidth": 0,
             "ticks": ""
            },
            "colorscale": [
             [
              0,
              "#0d0887"
             ],
             [
              0.1111111111111111,
              "#46039f"
             ],
             [
              0.2222222222222222,
              "#7201a8"
             ],
             [
              0.3333333333333333,
              "#9c179e"
             ],
             [
              0.4444444444444444,
              "#bd3786"
             ],
             [
              0.5555555555555556,
              "#d8576b"
             ],
             [
              0.6666666666666666,
              "#ed7953"
             ],
             [
              0.7777777777777778,
              "#fb9f3a"
             ],
             [
              0.8888888888888888,
              "#fdca26"
             ],
             [
              1,
              "#f0f921"
             ]
            ],
            "type": "contour"
           }
          ],
          "contourcarpet": [
           {
            "colorbar": {
             "outlinewidth": 0,
             "ticks": ""
            },
            "type": "contourcarpet"
           }
          ],
          "heatmap": [
           {
            "colorbar": {
             "outlinewidth": 0,
             "ticks": ""
            },
            "colorscale": [
             [
              0,
              "#0d0887"
             ],
             [
              0.1111111111111111,
              "#46039f"
             ],
             [
              0.2222222222222222,
              "#7201a8"
             ],
             [
              0.3333333333333333,
              "#9c179e"
             ],
             [
              0.4444444444444444,
              "#bd3786"
             ],
             [
              0.5555555555555556,
              "#d8576b"
             ],
             [
              0.6666666666666666,
              "#ed7953"
             ],
             [
              0.7777777777777778,
              "#fb9f3a"
             ],
             [
              0.8888888888888888,
              "#fdca26"
             ],
             [
              1,
              "#f0f921"
             ]
            ],
            "type": "heatmap"
           }
          ],
          "histogram": [
           {
            "marker": {
             "pattern": {
              "fillmode": "overlay",
              "size": 10,
              "solidity": 0.2
             }
            },
            "type": "histogram"
           }
          ],
          "histogram2d": [
           {
            "colorbar": {
             "outlinewidth": 0,
             "ticks": ""
            },
            "colorscale": [
             [
              0,
              "#0d0887"
             ],
             [
              0.1111111111111111,
              "#46039f"
             ],
             [
              0.2222222222222222,
              "#7201a8"
             ],
             [
              0.3333333333333333,
              "#9c179e"
             ],
             [
              0.4444444444444444,
              "#bd3786"
             ],
             [
              0.5555555555555556,
              "#d8576b"
             ],
             [
              0.6666666666666666,
              "#ed7953"
             ],
             [
              0.7777777777777778,
              "#fb9f3a"
             ],
             [
              0.8888888888888888,
              "#fdca26"
             ],
             [
              1,
              "#f0f921"
             ]
            ],
            "type": "histogram2d"
           }
          ],
          "histogram2dcontour": [
           {
            "colorbar": {
             "outlinewidth": 0,
             "ticks": ""
            },
            "colorscale": [
             [
              0,
              "#0d0887"
             ],
             [
              0.1111111111111111,
              "#46039f"
             ],
             [
              0.2222222222222222,
              "#7201a8"
             ],
             [
              0.3333333333333333,
              "#9c179e"
             ],
             [
              0.4444444444444444,
              "#bd3786"
             ],
             [
              0.5555555555555556,
              "#d8576b"
             ],
             [
              0.6666666666666666,
              "#ed7953"
             ],
             [
              0.7777777777777778,
              "#fb9f3a"
             ],
             [
              0.8888888888888888,
              "#fdca26"
             ],
             [
              1,
              "#f0f921"
             ]
            ],
            "type": "histogram2dcontour"
           }
          ],
          "mesh3d": [
           {
            "colorbar": {
             "outlinewidth": 0,
             "ticks": ""
            },
            "type": "mesh3d"
           }
          ],
          "parcoords": [
           {
            "line": {
             "colorbar": {
              "outlinewidth": 0,
              "ticks": ""
             }
            },
            "type": "parcoords"
           }
          ],
          "pie": [
           {
            "automargin": true,
            "type": "pie"
           }
          ],
          "scatter": [
           {
            "fillpattern": {
             "fillmode": "overlay",
             "size": 10,
             "solidity": 0.2
            },
            "type": "scatter"
           }
          ],
          "scatter3d": [
           {
            "line": {
             "colorbar": {
              "outlinewidth": 0,
              "ticks": ""
             }
            },
            "marker": {
             "colorbar": {
              "outlinewidth": 0,
              "ticks": ""
             }
            },
            "type": "scatter3d"
           }
          ],
          "scattercarpet": [
           {
            "marker": {
             "colorbar": {
              "outlinewidth": 0,
              "ticks": ""
             }
            },
            "type": "scattercarpet"
           }
          ],
          "scattergeo": [
           {
            "marker": {
             "colorbar": {
              "outlinewidth": 0,
              "ticks": ""
             }
            },
            "type": "scattergeo"
           }
          ],
          "scattergl": [
           {
            "marker": {
             "colorbar": {
              "outlinewidth": 0,
              "ticks": ""
             }
            },
            "type": "scattergl"
           }
          ],
          "scattermap": [
           {
            "marker": {
             "colorbar": {
              "outlinewidth": 0,
              "ticks": ""
             }
            },
            "type": "scattermap"
           }
          ],
          "scattermapbox": [
           {
            "marker": {
             "colorbar": {
              "outlinewidth": 0,
              "ticks": ""
             }
            },
            "type": "scattermapbox"
           }
          ],
          "scatterpolar": [
           {
            "marker": {
             "colorbar": {
              "outlinewidth": 0,
              "ticks": ""
             }
            },
            "type": "scatterpolar"
           }
          ],
          "scatterpolargl": [
           {
            "marker": {
             "colorbar": {
              "outlinewidth": 0,
              "ticks": ""
             }
            },
            "type": "scatterpolargl"
           }
          ],
          "scatterternary": [
           {
            "marker": {
             "colorbar": {
              "outlinewidth": 0,
              "ticks": ""
             }
            },
            "type": "scatterternary"
           }
          ],
          "surface": [
           {
            "colorbar": {
             "outlinewidth": 0,
             "ticks": ""
            },
            "colorscale": [
             [
              0,
              "#0d0887"
             ],
             [
              0.1111111111111111,
              "#46039f"
             ],
             [
              0.2222222222222222,
              "#7201a8"
             ],
             [
              0.3333333333333333,
              "#9c179e"
             ],
             [
              0.4444444444444444,
              "#bd3786"
             ],
             [
              0.5555555555555556,
              "#d8576b"
             ],
             [
              0.6666666666666666,
              "#ed7953"
             ],
             [
              0.7777777777777778,
              "#fb9f3a"
             ],
             [
              0.8888888888888888,
              "#fdca26"
             ],
             [
              1,
              "#f0f921"
             ]
            ],
            "type": "surface"
           }
          ],
          "table": [
           {
            "cells": {
             "fill": {
              "color": "#EBF0F8"
             },
             "line": {
              "color": "white"
             }
            },
            "header": {
             "fill": {
              "color": "#C8D4E3"
             },
             "line": {
              "color": "white"
             }
            },
            "type": "table"
           }
          ]
         },
         "layout": {
          "annotationdefaults": {
           "arrowcolor": "#2a3f5f",
           "arrowhead": 0,
           "arrowwidth": 1
          },
          "autotypenumbers": "strict",
          "coloraxis": {
           "colorbar": {
            "outlinewidth": 0,
            "ticks": ""
           }
          },
          "colorscale": {
           "diverging": [
            [
             0,
             "#8e0152"
            ],
            [
             0.1,
             "#c51b7d"
            ],
            [
             0.2,
             "#de77ae"
            ],
            [
             0.3,
             "#f1b6da"
            ],
            [
             0.4,
             "#fde0ef"
            ],
            [
             0.5,
             "#f7f7f7"
            ],
            [
             0.6,
             "#e6f5d0"
            ],
            [
             0.7,
             "#b8e186"
            ],
            [
             0.8,
             "#7fbc41"
            ],
            [
             0.9,
             "#4d9221"
            ],
            [
             1,
             "#276419"
            ]
           ],
           "sequential": [
            [
             0,
             "#0d0887"
            ],
            [
             0.1111111111111111,
             "#46039f"
            ],
            [
             0.2222222222222222,
             "#7201a8"
            ],
            [
             0.3333333333333333,
             "#9c179e"
            ],
            [
             0.4444444444444444,
             "#bd3786"
            ],
            [
             0.5555555555555556,
             "#d8576b"
            ],
            [
             0.6666666666666666,
             "#ed7953"
            ],
            [
             0.7777777777777778,
             "#fb9f3a"
            ],
            [
             0.8888888888888888,
             "#fdca26"
            ],
            [
             1,
             "#f0f921"
            ]
           ],
           "sequentialminus": [
            [
             0,
             "#0d0887"
            ],
            [
             0.1111111111111111,
             "#46039f"
            ],
            [
             0.2222222222222222,
             "#7201a8"
            ],
            [
             0.3333333333333333,
             "#9c179e"
            ],
            [
             0.4444444444444444,
             "#bd3786"
            ],
            [
             0.5555555555555556,
             "#d8576b"
            ],
            [
             0.6666666666666666,
             "#ed7953"
            ],
            [
             0.7777777777777778,
             "#fb9f3a"
            ],
            [
             0.8888888888888888,
             "#fdca26"
            ],
            [
             1,
             "#f0f921"
            ]
           ]
          },
          "colorway": [
           "#636efa",
           "#EF553B",
           "#00cc96",
           "#ab63fa",
           "#FFA15A",
           "#19d3f3",
           "#FF6692",
           "#B6E880",
           "#FF97FF",
           "#FECB52"
          ],
          "font": {
           "color": "#2a3f5f"
          },
          "geo": {
           "bgcolor": "white",
           "lakecolor": "white",
           "landcolor": "#E5ECF6",
           "showlakes": true,
           "showland": true,
           "subunitcolor": "white"
          },
          "hoverlabel": {
           "align": "left"
          },
          "hovermode": "closest",
          "mapbox": {
           "style": "light"
          },
          "paper_bgcolor": "white",
          "plot_bgcolor": "#E5ECF6",
          "polar": {
           "angularaxis": {
            "gridcolor": "white",
            "linecolor": "white",
            "ticks": ""
           },
           "bgcolor": "#E5ECF6",
           "radialaxis": {
            "gridcolor": "white",
            "linecolor": "white",
            "ticks": ""
           }
          },
          "scene": {
           "xaxis": {
            "backgroundcolor": "#E5ECF6",
            "gridcolor": "white",
            "gridwidth": 2,
            "linecolor": "white",
            "showbackground": true,
            "ticks": "",
            "zerolinecolor": "white"
           },
           "yaxis": {
            "backgroundcolor": "#E5ECF6",
            "gridcolor": "white",
            "gridwidth": 2,
            "linecolor": "white",
            "showbackground": true,
            "ticks": "",
            "zerolinecolor": "white"
           },
           "zaxis": {
            "backgroundcolor": "#E5ECF6",
            "gridcolor": "white",
            "gridwidth": 2,
            "linecolor": "white",
            "showbackground": true,
            "ticks": "",
            "zerolinecolor": "white"
           }
          },
          "shapedefaults": {
           "line": {
            "color": "#2a3f5f"
           }
          },
          "ternary": {
           "aaxis": {
            "gridcolor": "white",
            "linecolor": "white",
            "ticks": ""
           },
           "baxis": {
            "gridcolor": "white",
            "linecolor": "white",
            "ticks": ""
           },
           "bgcolor": "#E5ECF6",
           "caxis": {
            "gridcolor": "white",
            "linecolor": "white",
            "ticks": ""
           }
          },
          "title": {
           "x": 0.05
          },
          "xaxis": {
           "automargin": true,
           "gridcolor": "white",
           "linecolor": "white",
           "ticks": "",
           "title": {
            "standoff": 15
           },
           "zerolinecolor": "white",
           "zerolinewidth": 2
          },
          "yaxis": {
           "automargin": true,
           "gridcolor": "white",
           "linecolor": "white",
           "ticks": "",
           "title": {
            "standoff": 15
           },
           "zerolinecolor": "white",
           "zerolinewidth": 2
          }
         }
        },
        "title": {
         "text": "Visualización 3D - Clusterización de clientes"
        },
        "width": 1000
       }
      }
     },
     "metadata": {},
     "output_type": "display_data"
    }
   ],
   "source": [
    "import plotly.express as px\n",
    "\n",
    "fig = px.scatter_3d(grouped_data, x='total_price', y='ticket_promedio', z='transaction_count', color='Cluster',\n",
    "                    title='Visualización 3D - Clusterización de clientes',\n",
    "                    width=1000,  \n",
    "                    height=800)  \n",
    "fig.show()\n"
   ]
  },
  {
   "attachments": {
    "image.png": {
     "image/png": "[encoded data removed]"
    }
   },
   "cell_type": "markdown",
   "metadata": {},
   "source": [
    "![image.png](attachment:image.png)"
   ]
  },
  {
   "cell_type": "markdown",
   "metadata": {},
   "source": [
    "# Visualización de los segmentos de clientes\n",
    "\n",
    "- En este gráfico tridimensional se observa la segmentación de clientes utilizando K-Means, basada en tres variables: \n",
    "  - **`total_price`** (total gastado),\n",
    "  - **`transaction_count`** (número de transacciones), y\n",
    "  - **`ticket_promedio`** (promedio gastado por transacción).\n",
    "\n",
    "- Los puntos se agrupan en **5 clústeres bien definidos**, lo que refuerza que la elección de `k=5` fue adecuada. Cada color representa un segmento distinto de comportamiento.\n",
    "\n",
    "- Se aprecia que algunos segmentos tienen **alto gasto total** pero **pocas transacciones** con **ticket promedio alto** (clientes premium), mientras que otros hacen muchas compras de **bajo valor unitario** (compradores frecuentes pero moderados).\n",
    "\n",
    "- Esta visualización permite identificar perfiles de cliente, como:\n",
    "# Segmentos de Clientes con Colores del Gráfico 3D\n",
    "\n",
    "| Cluster | Nombre del cliente                   | Color en el gráfico | Descripción breve |\n",
    "|--------:|---------------------------------------|----------------------|--------------------|\n",
    "| 0       | **Cliente Leal y Frecuente** (alto `transaction_count`, ticket moderado) | 🔵 Azul oscuro       | Compra muchas veces con montos moderados. Ideal para fidelización. |\n",
    "| 1       | **Cliente Premium Ocasional** (pocas compras con ticket alto) | 🟣 Morado            | Bajo volumen de compra, pero con alto valor por transacción. |\n",
    "| 2       | **Cliente VIP o Premium** (alto `total_price` y `ticket_promedio`) | 🟠 Naranja           | Cliente de alto valor. Prioritario para mantener satisfecho. |\n",
    "| 3       | **Cliente Promedio** (comportamiento equilibrado) | 🌸 Rosado            | Actividad estable y balanceada. Puede crecer con incentivos. |\n",
    "| 4       | **Cliente Dormido o de Bajo Impacto** (bajo en todas las variables) | 🟡 Amarillo          | Bajo ticket, baja frecuencia. Requiere reactivación. |\n",
    "\n",
    "Esta segmentación permite diseñar estrategias personalizadas para cada grupo: desde promociones específicas hasta programas de fidelización.\n"
   ]
  },
  {
   "cell_type": "markdown",
   "metadata": {},
   "source": [
    "# Métricas de validación\n",
    "\n",
    "- Silhouette Score\n",
    "\n",
    "Mide la calidad de los clústeres basándose en la distancia promedio entre puntos en el mismo clúster y en el clúster más cercano.\n",
    "\n",
    "Rango: \n",
    "− 1 a 1\n",
    "(valores más cercanos a 1 indican clústeres bien separados)."
   ]
  },
  {
   "cell_type": "code",
   "execution_count": 176,
   "metadata": {},
   "outputs": [
    {
     "name": "stdout",
     "output_type": "stream",
     "text": [
      "Silhouette Score (modelo completo): 0.35\n"
     ]
    }
   ],
   "source": [
    "from sklearn.metrics import silhouette_score\n",
    "\n",
    "# Calcular el Silhouette Score en todo el conjunto de datos escalado\n",
    "silhouette_avg = silhouette_score(data_escalada, kmeans.labels_)\n",
    "\n",
    "print(f\"Silhouette Score (modelo completo): {silhouette_avg:.2f}\")\n"
   ]
  },
  {
   "cell_type": "markdown",
   "metadata": {},
   "source": [
    "- Calinski-Harabasz Index\n",
    "\n",
    "Relación entre la dispersión dentro de los clústeres y entre los clústeres.\n",
    "\n",
    "Valores más altos indican mejores clústeres."
   ]
  },
  {
   "cell_type": "code",
   "execution_count": 177,
   "metadata": {},
   "outputs": [
    {
     "name": "stdout",
     "output_type": "stream",
     "text": [
      "Calinski-Harabasz Index (validación): 69.26\n"
     ]
    }
   ],
   "source": [
    "from sklearn.metrics import calinski_harabasz_score\n",
    "\n",
    "# Calcular Calinski-Harabasz Index en los datos de validación\n",
    "ch_score = calinski_harabasz_score(data_escalada, kmeans.labels_)\n",
    "print(f\"Calinski-Harabasz Index (validación): {ch_score.round(2)}\")\n"
   ]
  },
  {
   "cell_type": "markdown",
   "metadata": {},
   "source": [
    "# Conclusión Final del Análisis\n",
    "\n",
    "Se realizó una segmentación de clientes utilizando el algoritmo **K-Means**, basada en tres variables clave: `total_price`, `transaction_count` y `ticket_promedio`. Luego de un análisis exploratorio y mediante la aplicación del **método del codo** y el **Silhouette Score**, se determinó que **5 clústeres** era una elección adecuada para capturar diferentes perfiles de comportamiento.\n",
    "\n",
    "Cada clúster fue interpretado y etiquetado según sus características, permitiendo identificar perfiles como el **Cliente Premium Ocasional**, **Cliente Leal y Frecuente**, **Cliente VIP o Premium**, entre otros.\n",
    "\n",
    "La calidad de la segmentación fue evaluada a través de métricas internas:\n",
    "- **Silhouette Score:** 0.35 → indica separación razonable entre clústeres.\n",
    "- **Índice de Calinski-Harabasz:** 69.26 → sugiere una estructura de clústeres válida y bien definida.\n",
    "\n",
    "Estos resultados validan que la segmentación obtenida tiene una base sólida y puede ser utilizada como insumo para decisiones de negocio, como:\n",
    "- Personalización de campañas promocionales,\n",
    "- Programas de fidelización segmentados,\n",
    "- Estrategias de retención y reactivación.\n",
    "\n",
    "En conjunto, este modelo ofrece una herramienta útil para comprender el comportamiento de los clientes y generar acciones más efectivas basadas en datos.\n"
   ]
  }
 ],
 "metadata": {
  "kernelspec": {
   "display_name": "supermercado",
   "language": "python",
   "name": "python3"
  },
  "language_info": {
   "codemirror_mode": {
    "name": "ipython",
    "version": 3
   },
   "file_extension": ".py",
   "mimetype": "text/x-python",
   "name": "python",
   "nbconvert_exporter": "python",
   "pygments_lexer": "ipython3",
   "version": "3.10.16"
  }
 },
 "nbformat": 4,
 "nbformat_minor": 2
}
